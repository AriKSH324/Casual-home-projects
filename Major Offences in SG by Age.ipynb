{
 "cells": [
  {
   "cell_type": "markdown",
   "id": "classical-posting",
   "metadata": {},
   "source": [
    "# Analysis of Arrests  of Persons for Major Offences in Singapore\n",
    "### Data is obtained from Data.gov.sg"
   ]
  },
  {
   "cell_type": "code",
   "execution_count": 91,
   "id": "automotive-commercial",
   "metadata": {},
   "outputs": [],
   "source": [
    "import pandas as pd\n",
    "import matplotlib as mpl\n",
    "import matplotlib.pyplot as plt\n",
    "import numpy as np\n",
    "import seaborn as sns\n",
    "import pandasql as ps\n",
    "%matplotlib inline"
   ]
  },
  {
   "cell_type": "code",
   "execution_count": 18,
   "id": "controlled-scout",
   "metadata": {},
   "outputs": [],
   "source": [
    "url = 'https://data.gov.sg/dataset/islandwide-persons-arrested-for-selected-major-offences'"
   ]
  },
  {
   "cell_type": "code",
   "execution_count": 19,
   "id": "magnetic-banking",
   "metadata": {},
   "outputs": [],
   "source": [
    "df = pd.read_csv('persons-arrested-for-selected-major-offences-by-age-group.csv')"
   ]
  },
  {
   "cell_type": "markdown",
   "id": "alternate-ferry",
   "metadata": {},
   "source": [
    "#### Random sample "
   ]
  },
  {
   "cell_type": "code",
   "execution_count": 20,
   "id": "negative-frank",
   "metadata": {},
   "outputs": [
    {
     "data": {
      "text/html": [
       "<div>\n",
       "<style scoped>\n",
       "    .dataframe tbody tr th:only-of-type {\n",
       "        vertical-align: middle;\n",
       "    }\n",
       "\n",
       "    .dataframe tbody tr th {\n",
       "        vertical-align: top;\n",
       "    }\n",
       "\n",
       "    .dataframe thead th {\n",
       "        text-align: right;\n",
       "    }\n",
       "</style>\n",
       "<table border=\"1\" class=\"dataframe\">\n",
       "  <thead>\n",
       "    <tr style=\"text-align: right;\">\n",
       "      <th></th>\n",
       "      <th>year</th>\n",
       "      <th>level_1</th>\n",
       "      <th>level_2</th>\n",
       "      <th>value</th>\n",
       "    </tr>\n",
       "  </thead>\n",
       "  <tbody>\n",
       "    <tr>\n",
       "      <th>328</th>\n",
       "      <td>2014</td>\n",
       "      <td>Male Arrested For Snatch Theft</td>\n",
       "      <td>21 Years Old And Below</td>\n",
       "      <td>26</td>\n",
       "    </tr>\n",
       "    <tr>\n",
       "      <th>562</th>\n",
       "      <td>2017</td>\n",
       "      <td>Male Arrested For Outrage Of Modesty</td>\n",
       "      <td>21 Years Old And Below</td>\n",
       "      <td>101</td>\n",
       "    </tr>\n",
       "    <tr>\n",
       "      <th>231</th>\n",
       "      <td>2013</td>\n",
       "      <td>Female Arrested For Theft Of Motor Vehicle</td>\n",
       "      <td>Above 21 Years Old</td>\n",
       "      <td>0</td>\n",
       "    </tr>\n",
       "    <tr>\n",
       "      <th>794</th>\n",
       "      <td>2019</td>\n",
       "      <td>Total Persons Arrested For Serious Hurt</td>\n",
       "      <td>Youths (7 To 19 Years Old)</td>\n",
       "      <td>36</td>\n",
       "    </tr>\n",
       "    <tr>\n",
       "      <th>376</th>\n",
       "      <td>2015</td>\n",
       "      <td>Female Arrested For Rape</td>\n",
       "      <td>21 Years Old And Below</td>\n",
       "      <td>0</td>\n",
       "    </tr>\n",
       "  </tbody>\n",
       "</table>\n",
       "</div>"
      ],
      "text/plain": [
       "     year                                     level_1  \\\n",
       "328  2014              Male Arrested For Snatch Theft   \n",
       "562  2017        Male Arrested For Outrage Of Modesty   \n",
       "231  2013  Female Arrested For Theft Of Motor Vehicle   \n",
       "794  2019     Total Persons Arrested For Serious Hurt   \n",
       "376  2015                    Female Arrested For Rape   \n",
       "\n",
       "                        level_2  value  \n",
       "328      21 Years Old And Below     26  \n",
       "562      21 Years Old And Below    101  \n",
       "231          Above 21 Years Old      0  \n",
       "794  Youths (7 To 19 Years Old)     36  \n",
       "376      21 Years Old And Below      0  "
      ]
     },
     "execution_count": 20,
     "metadata": {},
     "output_type": "execute_result"
    }
   ],
   "source": [
    "df.sample(5)"
   ]
  },
  {
   "cell_type": "code",
   "execution_count": 159,
   "id": "stainless-belly",
   "metadata": {},
   "outputs": [
    {
     "data": {
      "text/html": [
       "<div>\n",
       "<style scoped>\n",
       "    .dataframe tbody tr th:only-of-type {\n",
       "        vertical-align: middle;\n",
       "    }\n",
       "\n",
       "    .dataframe tbody tr th {\n",
       "        vertical-align: top;\n",
       "    }\n",
       "\n",
       "    .dataframe thead th {\n",
       "        text-align: right;\n",
       "    }\n",
       "</style>\n",
       "<table border=\"1\" class=\"dataframe\">\n",
       "  <thead>\n",
       "    <tr style=\"text-align: right;\">\n",
       "      <th></th>\n",
       "      <th>year</th>\n",
       "      <th>level_1</th>\n",
       "      <th>level_2</th>\n",
       "      <th>value</th>\n",
       "    </tr>\n",
       "  </thead>\n",
       "  <tbody>\n",
       "    <tr>\n",
       "      <th>0</th>\n",
       "      <td>2011</td>\n",
       "      <td>Total Persons Arrested For Murder</td>\n",
       "      <td>Above 21 Years Old</td>\n",
       "      <td>18</td>\n",
       "    </tr>\n",
       "    <tr>\n",
       "      <th>1</th>\n",
       "      <td>2011</td>\n",
       "      <td>Total Persons Arrested For Cheating &amp; Related</td>\n",
       "      <td>Youths (7 To 19 Years Old)</td>\n",
       "      <td>173</td>\n",
       "    </tr>\n",
       "    <tr>\n",
       "      <th>2</th>\n",
       "      <td>2011</td>\n",
       "      <td>Total Persons Arrested For Cheating &amp; Related</td>\n",
       "      <td>21 Years Old And Below</td>\n",
       "      <td>271</td>\n",
       "    </tr>\n",
       "    <tr>\n",
       "      <th>3</th>\n",
       "      <td>2011</td>\n",
       "      <td>Total Persons Arrested For Cheating &amp; Related</td>\n",
       "      <td>Above 21 Years Old</td>\n",
       "      <td>1376</td>\n",
       "    </tr>\n",
       "    <tr>\n",
       "      <th>4</th>\n",
       "      <td>2011</td>\n",
       "      <td>Total Persons Arrested For Serious Hurt</td>\n",
       "      <td>Youths (7 To 19 Years Old)</td>\n",
       "      <td>43</td>\n",
       "    </tr>\n",
       "    <tr>\n",
       "      <th>...</th>\n",
       "      <td>...</td>\n",
       "      <td>...</td>\n",
       "      <td>...</td>\n",
       "      <td>...</td>\n",
       "    </tr>\n",
       "    <tr>\n",
       "      <th>265</th>\n",
       "      <td>2019</td>\n",
       "      <td>Total Persons Arrested For Murder</td>\n",
       "      <td>21 Years Old And Below</td>\n",
       "      <td>1</td>\n",
       "    </tr>\n",
       "    <tr>\n",
       "      <th>266</th>\n",
       "      <td>2019</td>\n",
       "      <td>Total Persons Arrested For Murder</td>\n",
       "      <td>Above 21 Years Old</td>\n",
       "      <td>27</td>\n",
       "    </tr>\n",
       "    <tr>\n",
       "      <th>267</th>\n",
       "      <td>2019</td>\n",
       "      <td>Total Persons Arrested For Cheating &amp; Related</td>\n",
       "      <td>21 Years Old And Below</td>\n",
       "      <td>332</td>\n",
       "    </tr>\n",
       "    <tr>\n",
       "      <th>268</th>\n",
       "      <td>2019</td>\n",
       "      <td>Total Persons Arrested For Housebreaking</td>\n",
       "      <td>21 Years Old And Below</td>\n",
       "      <td>30</td>\n",
       "    </tr>\n",
       "    <tr>\n",
       "      <th>269</th>\n",
       "      <td>2019</td>\n",
       "      <td>Total Persons Arrested For Cheating &amp; Related</td>\n",
       "      <td>Youths (7 To 19 Years Old)</td>\n",
       "      <td>212</td>\n",
       "    </tr>\n",
       "  </tbody>\n",
       "</table>\n",
       "<p>270 rows × 4 columns</p>\n",
       "</div>"
      ],
      "text/plain": [
       "     year                                        level_1  \\\n",
       "0    2011              Total Persons Arrested For Murder   \n",
       "1    2011  Total Persons Arrested For Cheating & Related   \n",
       "2    2011  Total Persons Arrested For Cheating & Related   \n",
       "3    2011  Total Persons Arrested For Cheating & Related   \n",
       "4    2011        Total Persons Arrested For Serious Hurt   \n",
       "..    ...                                            ...   \n",
       "265  2019              Total Persons Arrested For Murder   \n",
       "266  2019              Total Persons Arrested For Murder   \n",
       "267  2019  Total Persons Arrested For Cheating & Related   \n",
       "268  2019       Total Persons Arrested For Housebreaking   \n",
       "269  2019  Total Persons Arrested For Cheating & Related   \n",
       "\n",
       "                        level_2  value  \n",
       "0            Above 21 Years Old     18  \n",
       "1    Youths (7 To 19 Years Old)    173  \n",
       "2        21 Years Old And Below    271  \n",
       "3            Above 21 Years Old   1376  \n",
       "4    Youths (7 To 19 Years Old)     43  \n",
       "..                          ...    ...  \n",
       "265      21 Years Old And Below      1  \n",
       "266          Above 21 Years Old     27  \n",
       "267      21 Years Old And Below    332  \n",
       "268      21 Years Old And Below     30  \n",
       "269  Youths (7 To 19 Years Old)    212  \n",
       "\n",
       "[270 rows x 4 columns]"
      ]
     },
     "execution_count": 159,
     "metadata": {},
     "output_type": "execute_result"
    }
   ],
   "source": [
    "Total_df= df[df['level_1'].str.contains('Total')]\n",
    "Total_df = Total_df.sort_values('year').reset_index(drop=True)\n",
    "Total_df"
   ]
  },
  {
   "cell_type": "code",
   "execution_count": 250,
   "id": "working-questionnaire",
   "metadata": {},
   "outputs": [
    {
     "name": "stdout",
     "output_type": "stream",
     "text": [
      "Total number of people arrested: 47875\n"
     ]
    }
   ],
   "source": [
    "Total_df['value'].sum()\n",
    "print(\"Total number of people arrested:\", Total_df['value'].sum())"
   ]
  },
  {
   "cell_type": "code",
   "execution_count": 164,
   "id": "consistent-accident",
   "metadata": {},
   "outputs": [
    {
     "name": "stdout",
     "output_type": "stream",
     "text": [
      "<class 'pandas.core.frame.DataFrame'>\n",
      "RangeIndex: 810 entries, 0 to 809\n",
      "Data columns (total 4 columns):\n",
      " #   Column   Non-Null Count  Dtype \n",
      "---  ------   --------------  ----- \n",
      " 0   year     810 non-null    int64 \n",
      " 1   level_1  810 non-null    object\n",
      " 2   level_2  810 non-null    object\n",
      " 3   value    810 non-null    int64 \n",
      "dtypes: int64(2), object(2)\n",
      "memory usage: 25.4+ KB\n"
     ]
    }
   ],
   "source": [
    "df.info()"
   ]
  },
  {
   "cell_type": "code",
   "execution_count": 22,
   "id": "exclusive-entity",
   "metadata": {},
   "outputs": [
    {
     "data": {
      "text/plain": [
       "year       0\n",
       "level_1    0\n",
       "level_2    0\n",
       "value      0\n",
       "dtype: int64"
      ]
     },
     "execution_count": 22,
     "metadata": {},
     "output_type": "execute_result"
    }
   ],
   "source": [
    "df.isnull().sum()"
   ]
  },
  {
   "cell_type": "markdown",
   "id": "hairy-tolerance",
   "metadata": {},
   "source": [
    "#### Total of unique cases from 2011 to 2019"
   ]
  },
  {
   "cell_type": "code",
   "execution_count": 290,
   "id": "primary-checkout",
   "metadata": {},
   "outputs": [
    {
     "name": "stdout",
     "output_type": "stream",
     "text": [
      "Number of unique cases: 20\n"
     ]
    },
    {
     "data": {
      "text/plain": [
       "0                       Male Arrested For Murder\n",
       "1                     Female Arrested For Murder\n",
       "2                         Male Arrested For Rape\n",
       "3                       Female Arrested For Rape\n",
       "4           Male Arrested For Outrage Of Modesty\n",
       "5         Female Arrested For Outrage Of Modesty\n",
       "6                      Male Arrested For Robbery\n",
       "7                    Female Arrested For Robbery\n",
       "8                Male Arrested For Housebreaking\n",
       "9              Female Arrested For Housebreaking\n",
       "10      Male Arrested For Theft Of Motor Vehicle\n",
       "11    Female Arrested For Theft Of Motor Vehicle\n",
       "12                Male Arrested For Snatch Theft\n",
       "13              Female Arrested For Snatch Theft\n",
       "14                     Male Arrested For Rioting\n",
       "15                   Female Arrested For Rioting\n",
       "16                Male Arrested For Serious Hurt\n",
       "17              Female Arrested For Serious Hurt\n",
       "18          Male Arrested For Cheating & Related\n",
       "19        Female Arrested For Cheating & Related\n",
       "Name: level_1, dtype: object"
      ]
     },
     "execution_count": 290,
     "metadata": {},
     "output_type": "execute_result"
    }
   ],
   "source": [
    "df_unique = df[df[\"level_1\"].str.contains(\"Total\")==False]\n",
    "df_unique = df_unique['level_1'].drop_duplicates().reset_index(drop=True)\n",
    "print(\"Number of unique cases:\", 20)\n",
    "df_unique"
   ]
  },
  {
   "cell_type": "markdown",
   "id": "sustained-mother",
   "metadata": {},
   "source": [
    "#### Finding out the number of adults above age 21 that were arrested"
   ]
  },
  {
   "cell_type": "code",
   "execution_count": 292,
   "id": "adjustable-bubble",
   "metadata": {},
   "outputs": [
    {
     "name": "stdout",
     "output_type": "stream",
     "text": [
      "Total number of Adults arrested: 32291\n"
     ]
    }
   ],
   "source": [
    "q1=\"\"\"\n",
    "SELECT  *\n",
    "FROM df\n",
    "WHERE level_2 = 'Above 21 Years Old'\n",
    "\"\"\"\n",
    "Adults_df = ps.sqldf(q1, locals())\n",
    "Adults_df = Adults_df[Adults_df[\"level_1\"].str.contains(\"Total\")==False]\n",
    "print(\"Total number of Adults arrested:\", Adults_df['value'].sum())"
   ]
  },
  {
   "cell_type": "markdown",
   "id": "saved-louisville",
   "metadata": {},
   "source": [
    "#### Finding out the number of youths that were arrested"
   ]
  },
  {
   "cell_type": "code",
   "execution_count": 295,
   "id": "strange-hearts",
   "metadata": {},
   "outputs": [
    {
     "name": "stdout",
     "output_type": "stream",
     "text": [
      "Total number of Youths arrested: 6674\n"
     ]
    }
   ],
   "source": [
    "q2=\"\"\"\n",
    "SELECT  *\n",
    "FROM df\n",
    "WHERE level_2 = 'Youths (7 To 19 Years Old)'\n",
    "\"\"\"\n",
    "Youths_df = ps.sqldf(q2, locals())\n",
    "Youths_df = Youths_df[Youths_df[\"level_1\"].str.contains(\"Total\")==False]\n",
    "print(\"Total number of Youths arrested:\", Youths_df['value'].sum())"
   ]
  },
  {
   "cell_type": "markdown",
   "id": "regular-massage",
   "metadata": {},
   "source": [
    "#### Total people arrested in 2019"
   ]
  },
  {
   "cell_type": "code",
   "execution_count": 177,
   "id": "latest-signature",
   "metadata": {},
   "outputs": [
    {
     "name": "stdout",
     "output_type": "stream",
     "text": [
      "Total number of people arrested in 2019: 5659\n"
     ]
    }
   ],
   "source": [
    "q3=\"\"\"\n",
    "SELECT  *\n",
    "FROM Total_df\n",
    "WHERE year = 2019\n",
    "\"\"\"\n",
    "Year2019_df = ps.sqldf(q3,locals())\n",
    "print(\"Total number of people arrested in 2019:\", Year2019_df['value'].sum())"
   ]
  },
  {
   "cell_type": "code",
   "execution_count": 94,
   "id": "initial-works",
   "metadata": {},
   "outputs": [],
   "source": [
    "start_date =2011\n",
    "end_date=2019\n",
    "df2 = Youths_df.loc[(Youths_df['year'] >= start_date) & (Youths_df['year'] <= end_date) ].groupby(['year','level_2'])['value'].sum()"
   ]
  },
  {
   "cell_type": "markdown",
   "id": "legislative-interpretation",
   "metadata": {},
   "source": [
    "#### Simple bar illustration to observe the patterns of youths arrested"
   ]
  },
  {
   "cell_type": "code",
   "execution_count": 254,
   "id": "intimate-istanbul",
   "metadata": {},
   "outputs": [
    {
     "data": {
      "text/plain": [
       "(array([0, 1, 2, 3, 4, 5, 6, 7, 8]),\n",
       " [Text(0, 0, '(2011, Youths)'),\n",
       "  Text(1, 0, '(2012, Youths)'),\n",
       "  Text(2, 0, '(2013, Youths)'),\n",
       "  Text(3, 0, '(2014, Youths)'),\n",
       "  Text(4, 0, '(2015, Youths)'),\n",
       "  Text(5, 0, '(2016, Youths)'),\n",
       "  Text(6, 0, '(2017, Youths)'),\n",
       "  Text(7, 0, '(2018, Youths)'),\n",
       "  Text(8, 0, '(2019, Youths)')])"
      ]
     },
     "execution_count": 254,
     "metadata": {},
     "output_type": "execute_result"
    },
    {
     "data": {
      "image/png": "[encoded data removed]",
      "text/plain": [
       "<Figure size 720x360 with 1 Axes>"
      ]
     },
     "metadata": {},
     "output_type": "display_data"
    }
   ],
   "source": [
    "df2 = df2.rename({'Youths (7 To 19 Years Old)':'Youths'})\n",
    "plt.figure(figsize=(10, 5))\n",
    "sns.set_style('whitegrid')\n",
    "df2.plot ( kind='bar', color = 'tomato')\n",
    "plt.title('Arrests Rate of Youths')\n",
    "plt.ylabel('Total')\n",
    "plt.xlabel('Year')\n",
    "plt.xticks(rotation=30)"
   ]
  },
  {
   "cell_type": "markdown",
   "id": "fifty-demand",
   "metadata": {},
   "source": [
    "#### Evidently as the years go by the crime rate of youths also decreased."
   ]
  },
  {
   "cell_type": "markdown",
   "id": "genuine-albert",
   "metadata": {},
   "source": [
    "#### Now to observe the amounts of males arrested compared to females regardless of age"
   ]
  },
  {
   "cell_type": "code",
   "execution_count": 195,
   "id": "round-thumb",
   "metadata": {},
   "outputs": [
    {
     "name": "stdout",
     "output_type": "stream",
     "text": [
      "Total number of Males arrested: 40190\n"
     ]
    }
   ],
   "source": [
    "Male_df= df[df['level_1'].str.contains('Male')]\n",
    "print(\"Total number of Males arrested:\", Male_df['value'].sum())"
   ]
  },
  {
   "cell_type": "code",
   "execution_count": 196,
   "id": "alien-spider",
   "metadata": {},
   "outputs": [],
   "source": [
    "Male_df = Male_df.loc[(Male_df['year'] >= start_date) & (Male_df['year'] <=end_date)].groupby(['year'])['value'].sum()"
   ]
  },
  {
   "cell_type": "code",
   "execution_count": 232,
   "id": "instant-telephone",
   "metadata": {},
   "outputs": [
    {
     "data": {
      "text/plain": [
       "(array([0, 1, 2, 3, 4, 5, 6, 7, 8]),\n",
       " [Text(0, 0, '2011'),\n",
       "  Text(1, 0, '2012'),\n",
       "  Text(2, 0, '2013'),\n",
       "  Text(3, 0, '2014'),\n",
       "  Text(4, 0, '2015'),\n",
       "  Text(5, 0, '2016'),\n",
       "  Text(6, 0, '2017'),\n",
       "  Text(7, 0, '2018'),\n",
       "  Text(8, 0, '2019')])"
      ]
     },
     "execution_count": 232,
     "metadata": {},
     "output_type": "execute_result"
    },
    {
     "data": {
      "image/png": "[encoded data removed]",
      "text/plain": [
       "<Figure size 720x360 with 1 Axes>"
      ]
     },
     "metadata": {},
     "output_type": "display_data"
    }
   ],
   "source": [
    "plt.figure(figsize =(10,5))\n",
    "g = Male_df.plot ( x='year', y = 'value', kind='bar', color = 'darkcyan')\n",
    "ax = g\n",
    "for p in ax.patches:\n",
    "    ax.text(p.get_x() + p.get_width()/2., p.get_height(), '{0:.0f}'.format(p.get_height()),fontsize=11, color='black', ha='center', va='bottom')\n",
    "plt.title(\"Number of Males Arrested from Year 2011 to 2019\")\n",
    "plt.xticks(rotation=0)"
   ]
  },
  {
   "cell_type": "code",
   "execution_count": 201,
   "id": "swedish-spray",
   "metadata": {},
   "outputs": [
    {
     "name": "stdout",
     "output_type": "stream",
     "text": [
      "Total number of Females arrested: 7685\n"
     ]
    }
   ],
   "source": [
    "Female_df= df[df['level_1'].str.contains('Female')]\n",
    "print(\"Total number of Females arrested:\", Female_df['value'].sum())"
   ]
  },
  {
   "cell_type": "code",
   "execution_count": 203,
   "id": "phantom-singles",
   "metadata": {},
   "outputs": [],
   "source": [
    "Female_df = Female_df.loc[(Female_df['year'] >= start_date) & (Female_df['year'] <= end_date)].groupby(['year'])['value'].sum()"
   ]
  },
  {
   "cell_type": "code",
   "execution_count": 218,
   "id": "hairy-designation",
   "metadata": {},
   "outputs": [
    {
     "data": {
      "text/plain": [
       "(array([0, 1, 2, 3, 4, 5, 6, 7, 8]),\n",
       " [Text(0, 0, '2011'),\n",
       "  Text(1, 0, '2012'),\n",
       "  Text(2, 0, '2013'),\n",
       "  Text(3, 0, '2014'),\n",
       "  Text(4, 0, '2015'),\n",
       "  Text(5, 0, '2016'),\n",
       "  Text(6, 0, '2017'),\n",
       "  Text(7, 0, '2018'),\n",
       "  Text(8, 0, '2019')])"
      ]
     },
     "execution_count": 218,
     "metadata": {},
     "output_type": "execute_result"
    },
    {
     "data": {
      "image/png": "[encoded data removed]",
      "text/plain": [
       "<Figure size 720x360 with 1 Axes>"
      ]
     },
     "metadata": {},
     "output_type": "display_data"
    }
   ],
   "source": [
    "plt.figure(figsize=(10,5))\n",
    "g = Female_df.plot( x='year', y = 'value', kind ='bar', color = 'pink')\n",
    "ax = g\n",
    "for p in ax.patches:\n",
    "    ax.text(p.get_x() + p.get_width()/2., p.get_height(), '{0:.0f}'.format(p.get_height()),fontsize=11, color='black', ha='center', va='bottom')\n",
    "plt.title ('Number of Females Arrested from Year 2011 to 2019')\n",
    "plt.xticks(rotation =0)\n"
   ]
  },
  {
   "cell_type": "markdown",
   "id": "split-chinese",
   "metadata": {},
   "source": [
    "##### So it turns out that within the span of 9 years, totals males arressted for various crimes were about 4 times more compared to females , regardless of the age group, with male counts staying consistent above 4000 every year, while female totals were under 1000 with only eyar 2018 having the highest number of arrests being 1108 arrests."
   ]
  },
  {
   "cell_type": "markdown",
   "id": "dominican-capital",
   "metadata": {},
   "source": [
    "#### Since the total numbers of arrests for male and female are known respectively, a pie chart can be manually made to showcase the percentage difference "
   ]
  },
  {
   "cell_type": "code",
   "execution_count": 248,
   "id": "ignored-prague",
   "metadata": {},
   "outputs": [
    {
     "data": {
      "image/png": "[encoded data removed]",
      "text/plain": [
       "<Figure size 432x288 with 1 Axes>"
      ]
     },
     "metadata": {},
     "output_type": "display_data"
    }
   ],
   "source": [
    "labels = 'Males', 'Females'\n",
    "sizes = [40190, 7685]\n",
    "fig1, ax1 = plt.subplots()\n",
    "ax1.pie(sizes, labels = labels, autopct = '%1.2f%%')\n",
    "ax1.axis=('equal')\n",
    "plt.title('Percentage of Male vs Female Arrests')\n",
    "plt.show()"
   ]
  },
  {
   "cell_type": "markdown",
   "id": "chemical-opera",
   "metadata": {},
   "source": [
    "#### So in conclusion, with males arrests being a majority compared to females, with 83.95% male vs 16.05% females, generally, it is very likely that any various sort of crimes that could happen in Singapore are more likely being committed by the male population."
   ]
  },
  {
   "cell_type": "code",
   "execution_count": null,
   "id": "minimal-necklace",
   "metadata": {},
   "outputs": [],
   "source": []
  }
 ],
 "metadata": {
  "kernelspec": {
   "display_name": "Python 3",
   "language": "python",
   "name": "python3"
  },
  "language_info": {
   "codemirror_mode": {
    "name": "ipython",
    "version": 3
   },
   "file_extension": ".py",
   "mimetype": "text/x-python",
   "name": "python",
   "nbconvert_exporter": "python",
   "pygments_lexer": "ipython3",
   "version": "3.9.1"
  },
  "toc-showmarkdowntxt": true
 },
 "nbformat": 4,
 "nbformat_minor": 5
}
