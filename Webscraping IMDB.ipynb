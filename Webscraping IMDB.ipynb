{
 "cells": [
  {
   "cell_type": "code",
   "execution_count": 33,
   "id": "casual-payroll",
   "metadata": {},
   "outputs": [],
   "source": [
    "import requests\n",
    "from requests import get\n",
    "from bs4 import BeautifulSoup\n",
    "import pandas as pd\n",
    "import numpy as np"
   ]
  },
  {
   "cell_type": "code",
   "execution_count": 34,
   "id": "unique-hardwood",
   "metadata": {},
   "outputs": [],
   "source": [
    "# Ensure only English-translated titles from movies\n",
    "headers = {\"Accept-Language\": \"en-US, en;q=0.5\"}"
   ]
  },
  {
   "cell_type": "code",
   "execution_count": 35,
   "id": "duplicate-bundle",
   "metadata": {},
   "outputs": [],
   "source": [
    "url = 'https://www.imdb.com/search/title/?groups=top_1000&ref_=adv_prv'\n",
    "results = requests.get(url, headers=headers)"
   ]
  },
  {
   "cell_type": "markdown",
   "id": "blond-champion",
   "metadata": {},
   "source": [
    "##### url : is the variable we create and assign the URL to\n",
    "##### results : is the variable we create to store our request.get action\n",
    "##### requests.get(url, headers=headers) : is the method we use to grab the contents of the URL. The headers part tells our scraper to bring us English, based on our previous line of code."
   ]
  },
  {
   "cell_type": "code",
   "execution_count": 36,
   "id": "direct-labor",
   "metadata": {
    "scrolled": true
   },
   "outputs": [],
   "source": [
    "soup = BeautifulSoup(results.text, 'html.parser')\n",
    "#print(soup.prettify())"
   ]
  },
  {
   "cell_type": "markdown",
   "id": "following-court",
   "metadata": {},
   "source": [
    "##### soup : is the variable we create to assign the method BeatifulSoup to, which specifies a desired format of results using the HTML parser — this allows Python to read the components of the page rather than treating it as one long string\n",
    "##### print(soup.prettify()) : will print what we’ve grabbed in a more structured tree format, making it easier to read"
   ]
  },
  {
   "cell_type": "code",
   "execution_count": 37,
   "id": "blocked-duncan",
   "metadata": {},
   "outputs": [],
   "source": [
    "#initialize empty lists where you'll store your data\n",
    "titles = []\n",
    "years = []\n",
    "time =[]\n",
    "imdb_ratings = []\n",
    "metascores = []\n",
    "votes = []\n",
    "us_gross = []"
   ]
  },
  {
   "cell_type": "code",
   "execution_count": 38,
   "id": "green-combining",
   "metadata": {},
   "outputs": [],
   "source": [
    "movie_div = soup.find_all('div',class_='lister-item-mode-advanced')"
   ]
  },
  {
   "cell_type": "markdown",
   "id": "statutory-angel",
   "metadata": {},
   "source": [
    "##### the find_all() method extracts all the div containers that have a class attribute of lister-item mode-advanced from what we have stored in our variable soup."
   ]
  },
  {
   "cell_type": "code",
   "execution_count": 39,
   "id": "exciting-balance",
   "metadata": {},
   "outputs": [],
   "source": [
    "#initiate the for loop \n",
    "#this tells your scraper to iterate through \n",
    "#every div container we stored in move_div"
   ]
  },
  {
   "cell_type": "code",
   "execution_count": 40,
   "id": "effective-flood",
   "metadata": {},
   "outputs": [],
   "source": [
    "#Compile everything into one cell\n",
    "\n",
    "url = \"https://www.imdb.com/search/title/?groups=top_1000&ref_=adv_prv\"\n",
    "headers = {\"Accept-Language\": \"en-US, en;q=0.5\"}\n",
    "results = requests.get(url, headers=headers)\n",
    "\n",
    "soup = BeautifulSoup(results.text, \"html.parser\")\n",
    "\n",
    "titles = []\n",
    "years = []\n",
    "time =[]\n",
    "imdb_ratings = []\n",
    "metascores = []\n",
    "votes = []\n",
    "us_gross = []\n",
    "\n",
    "movie_div = soup.find_all('div', class_='lister-item mode-advanced')\n",
    "\n",
    "for container in movie_div:\n",
    "  \n",
    "  #Name\n",
    "  name = container.h3.a.text\n",
    "  titles.append(name)\n",
    "        \n",
    "  #year\n",
    "  year = container.h3.find('span', class_='lister-item-year').text\n",
    "  years.append(year)\n",
    "\n",
    "  #time\n",
    "  runtime = container.p.find('span', class_='runtime').text if container.p.find('span', class_='runtime').text else '-'\n",
    "  time.append(runtime)\n",
    "\n",
    "  #IMDb rating\n",
    "  imdb = float(container.strong.text)\n",
    "  imdb_ratings.append(imdb)\n",
    "\n",
    "  #metascore\n",
    "  m_score = container.find('span', class_='metascore').text if container.find('span', class_='metascore') else '-'\n",
    "  metascores.append(m_score)\n",
    "\n",
    "  #here are two NV containers, grab both of them as they hold both the votes and the grosses\n",
    "  nv = container.find_all('span', attrs={'name': 'nv'})\n",
    "        \n",
    "  #filter nv for votes\n",
    "  vote = nv[0].text\n",
    "  votes.append(vote)\n",
    "        \n",
    "  #filter nv for gross\n",
    "  grosses = nv[1].text if len(nv) > 1 else '-'\n",
    "  us_gross.append(grosses)"
   ]
  },
  {
   "cell_type": "code",
   "execution_count": 41,
   "id": "worth-balance",
   "metadata": {
    "scrolled": true
   },
   "outputs": [
    {
     "name": "stdout",
     "output_type": "stream",
     "text": [
      "['Dune', 'Shang-Chi and the Legend of the Ten Rings', 'The Matrix', 'Shershaah', 'Avengers: Endgame', 'The Shawshank Redemption', 'Once Upon a Time... In Hollywood', 'Knives Out', 'Once Upon a Time in America', 'Wind River', \"Harry Potter and the Sorcerer's Stone\", 'The Wolf of Wall Street', \"Zack Snyder's Justice League\", 'The Father', 'Interstellar', 'The Dark Knight', 'Blade Runner 2049', 'Parasite', 'The Godfather', 'Bohemian Rhapsody', 'Inception', '1917', 'Pulp Fiction', 'Mad Max: Fury Road', 'The Lord of the Rings: The Fellowship of the Ring', 'Gone Girl', 'Joker', 'Goodfellas', 'Avengers: Infinity War', 'Gladiator', 'The Goonies', 'Forrest Gump', 'Jurassic Park', 'Man on Fire', 'Tombstone', 'Guardians of the Galaxy', 'Titanic', 'Prisoners', 'Another Round', 'American Psycho', 'Harry Potter and the Deathly Hallows: Part 2', 'Back to the Future', 'Deadpool', 'Casino Royale', 'Sicario', 'Django Unchained', 'Blade Runner', 'Inglourious Basterds', 'The Gentlemen', 'Thor: Ragnarok']\n",
      "['(2021)', '(2021)', '(1999)', '(2021)', '(2019)', '(1994)', '(2019)', '(2019)', '(1984)', '(2017)', '(2001)', '(2013)', '(2021)', '(I) (2020)', '(2014)', '(2008)', '(2017)', '(2019)', '(1972)', '(2018)', '(2010)', '(2019)', '(1994)', '(2015)', '(2001)', '(2014)', '(2019)', '(1990)', '(2018)', '(2000)', '(1985)', '(1994)', '(1993)', '(2004)', '(1993)', '(2014)', '(1997)', '(2013)', '(2020)', '(2000)', '(2011)', '(1985)', '(2016)', '(2006)', '(2015)', '(2012)', '(1982)', '(2009)', '(2019)', '(2017)']\n",
      "['155 min', '132 min', '136 min', '135 min', '181 min', '142 min', '161 min', '130 min', '229 min', '107 min', '152 min', '180 min', '242 min', '97 min', '169 min', '152 min', '164 min', '132 min', '175 min', '134 min', '148 min', '119 min', '154 min', '120 min', '178 min', '149 min', '122 min', '146 min', '149 min', '155 min', '114 min', '142 min', '127 min', '146 min', '130 min', '121 min', '194 min', '153 min', '117 min', '101 min', '130 min', '116 min', '108 min', '144 min', '121 min', '165 min', '117 min', '153 min', '113 min', '130 min']\n",
      "[8.5, 7.9, 8.7, 8.8, 8.4, 9.3, 7.6, 7.9, 8.4, 7.7, 7.6, 8.2, 8.1, 8.3, 8.6, 9.0, 8.0, 8.6, 9.2, 7.9, 8.8, 8.3, 8.9, 8.1, 8.8, 8.1, 8.4, 8.7, 8.4, 8.5, 7.8, 8.8, 8.1, 7.7, 7.8, 8.0, 7.8, 8.1, 7.8, 7.6, 8.1, 8.5, 8.0, 8.0, 7.6, 8.4, 8.1, 8.3, 7.8, 7.9]\n",
      "['75        ', '71        ', '73        ', '-', '78        ', '80        ', '83        ', '82        ', '75        ', '73        ', '64        ', '75        ', '54        ', '88        ', '74        ', '84        ', '81        ', '96        ', '100        ', '49        ', '74        ', '78        ', '94        ', '90        ', '92        ', '79        ', '59        ', '90        ', '68        ', '67        ', '62        ', '82        ', '68        ', '47        ', '50        ', '76        ', '75        ', '70        ', '79        ', '64        ', '85        ', '87        ', '65        ', '80        ', '82        ', '81        ', '84        ', '69        ', '51        ', '74        ']\n",
      "['36,088', '85,955', '1,757,491', '101,531', '938,583', '2,463,625', '637,110', '527,194', '328,694', '223,587', '698,640', '1,264,443', '336,499', '96,211', '1,614,656', '2,418,657', '497,808', '659,890', '1,703,668', '486,259', '2,169,992', '490,885', '1,908,164', '926,845', '1,730,808', '908,287', '1,066,662', '1,069,817', '923,695', '1,398,390', '255,337', '1,904,637', '908,913', '341,487', '135,913', '1,093,651', '1,092,110', '637,340', '109,030', '525,191', '802,428', '1,112,692', '947,914', '601,028', '394,051', '1,426,287', '721,596', '1,332,539', '281,348', '646,375']\n",
      "['-', '-', '$171.48M', '-', '$858.37M', '$28.34M', '$142.50M', '$165.36M', '$5.32M', '$33.80M', '$317.58M', '$116.90M', '-', '-', '$188.02M', '$534.86M', '$92.05M', '$53.37M', '$134.97M', '$216.43M', '$292.58M', '$159.23M', '$107.93M', '$154.06M', '$315.54M', '$167.77M', '$335.45M', '$46.84M', '$678.82M', '$187.71M', '$61.50M', '$330.25M', '$402.45M', '$77.91M', '$56.51M', '$333.18M', '$659.33M', '$61.00M', '-', '$15.07M', '$381.01M', '$210.61M', '$363.07M', '$167.45M', '$46.89M', '$162.81M', '$32.87M', '$120.54M', '-', '$315.06M']\n"
     ]
    }
   ],
   "source": [
    "print(titles)\n",
    "print(years)\n",
    "print(time)\n",
    "print(imdb_ratings)\n",
    "print(metascores)\n",
    "print(votes)\n",
    "print(us_gross)"
   ]
  },
  {
   "cell_type": "code",
   "execution_count": 42,
   "id": "legal-grill",
   "metadata": {},
   "outputs": [],
   "source": [
    "#Pandas DataFrame\n",
    "movies = pd.DataFrame({\n",
    "    'movie': titles,\n",
    "    'year': years,\n",
    "    'timeMin': time,\n",
    "    'imdb': imdb_ratings,\n",
    "    'metascore': metascores,\n",
    "    'votes': votes,\n",
    "    'us_grossMillions': us_gross,\n",
    "})"
   ]
  },
  {
   "cell_type": "code",
   "execution_count": 43,
   "id": "urban-creativity",
   "metadata": {},
   "outputs": [
    {
     "data": {
      "text/html": [
       "<div>\n",
       "<style scoped>\n",
       "    .dataframe tbody tr th:only-of-type {\n",
       "        vertical-align: middle;\n",
       "    }\n",
       "\n",
       "    .dataframe tbody tr th {\n",
       "        vertical-align: top;\n",
       "    }\n",
       "\n",
       "    .dataframe thead th {\n",
       "        text-align: right;\n",
       "    }\n",
       "</style>\n",
       "<table border=\"1\" class=\"dataframe\">\n",
       "  <thead>\n",
       "    <tr style=\"text-align: right;\">\n",
       "      <th></th>\n",
       "      <th>movie</th>\n",
       "      <th>year</th>\n",
       "      <th>timeMin</th>\n",
       "      <th>imdb</th>\n",
       "      <th>metascore</th>\n",
       "      <th>votes</th>\n",
       "      <th>us_grossMillions</th>\n",
       "    </tr>\n",
       "  </thead>\n",
       "  <tbody>\n",
       "    <tr>\n",
       "      <th>0</th>\n",
       "      <td>Dune</td>\n",
       "      <td>(2021)</td>\n",
       "      <td>155 min</td>\n",
       "      <td>8.5</td>\n",
       "      <td>75</td>\n",
       "      <td>36,088</td>\n",
       "      <td>-</td>\n",
       "    </tr>\n",
       "    <tr>\n",
       "      <th>1</th>\n",
       "      <td>Shang-Chi and the Legend of the Ten Rings</td>\n",
       "      <td>(2021)</td>\n",
       "      <td>132 min</td>\n",
       "      <td>7.9</td>\n",
       "      <td>71</td>\n",
       "      <td>85,955</td>\n",
       "      <td>-</td>\n",
       "    </tr>\n",
       "    <tr>\n",
       "      <th>2</th>\n",
       "      <td>The Matrix</td>\n",
       "      <td>(1999)</td>\n",
       "      <td>136 min</td>\n",
       "      <td>8.7</td>\n",
       "      <td>73</td>\n",
       "      <td>1,757,491</td>\n",
       "      <td>$171.48M</td>\n",
       "    </tr>\n",
       "    <tr>\n",
       "      <th>3</th>\n",
       "      <td>Shershaah</td>\n",
       "      <td>(2021)</td>\n",
       "      <td>135 min</td>\n",
       "      <td>8.8</td>\n",
       "      <td>-</td>\n",
       "      <td>101,531</td>\n",
       "      <td>-</td>\n",
       "    </tr>\n",
       "    <tr>\n",
       "      <th>4</th>\n",
       "      <td>Avengers: Endgame</td>\n",
       "      <td>(2019)</td>\n",
       "      <td>181 min</td>\n",
       "      <td>8.4</td>\n",
       "      <td>78</td>\n",
       "      <td>938,583</td>\n",
       "      <td>$858.37M</td>\n",
       "    </tr>\n",
       "  </tbody>\n",
       "</table>\n",
       "</div>"
      ],
      "text/plain": [
       "                                       movie    year  timeMin  imdb  \\\n",
       "0                                       Dune  (2021)  155 min   8.5   \n",
       "1  Shang-Chi and the Legend of the Ten Rings  (2021)  132 min   7.9   \n",
       "2                                 The Matrix  (1999)  136 min   8.7   \n",
       "3                                  Shershaah  (2021)  135 min   8.8   \n",
       "4                          Avengers: Endgame  (2019)  181 min   8.4   \n",
       "\n",
       "    metascore      votes us_grossMillions  \n",
       "0  75             36,088                -  \n",
       "1  71             85,955                -  \n",
       "2  73          1,757,491         $171.48M  \n",
       "3           -    101,531                -  \n",
       "4  78            938,583         $858.37M  "
      ]
     },
     "execution_count": 43,
     "metadata": {},
     "output_type": "execute_result"
    }
   ],
   "source": [
    "movies.head()"
   ]
  },
  {
   "cell_type": "code",
   "execution_count": 44,
   "id": "applicable-latino",
   "metadata": {},
   "outputs": [
    {
     "data": {
      "text/plain": [
       "movie                object\n",
       "year                 object\n",
       "timeMin              object\n",
       "imdb                float64\n",
       "metascore            object\n",
       "votes                object\n",
       "us_grossMillions     object\n",
       "dtype: object"
      ]
     },
     "execution_count": 44,
     "metadata": {},
     "output_type": "execute_result"
    }
   ],
   "source": [
    "movies.dtypes"
   ]
  },
  {
   "cell_type": "code",
   "execution_count": 45,
   "id": "boxed-superior",
   "metadata": {},
   "outputs": [],
   "source": [
    "movies['year'] = movies['year'].str.extract('(\\d+)').astype(int)\n",
    "#('(\\d+)') to extract all digits in the string"
   ]
  },
  {
   "cell_type": "code",
   "execution_count": 46,
   "id": "brilliant-lighter",
   "metadata": {},
   "outputs": [
    {
     "data": {
      "text/plain": [
       "dtype('int32')"
      ]
     },
     "execution_count": 46,
     "metadata": {},
     "output_type": "execute_result"
    }
   ],
   "source": [
    "movies['year'].dtype"
   ]
  },
  {
   "cell_type": "code",
   "execution_count": 47,
   "id": "thirty-kitty",
   "metadata": {},
   "outputs": [],
   "source": [
    "movies['timeMin'] = movies['timeMin'].str.extract('(\\d+)').astype(int)"
   ]
  },
  {
   "cell_type": "code",
   "execution_count": 48,
   "id": "brave-montgomery",
   "metadata": {},
   "outputs": [],
   "source": [
    "#movies['metascore'] = movies['metascore'].astype(int)\n",
    "#couldn't convert int"
   ]
  },
  {
   "cell_type": "code",
   "execution_count": 49,
   "id": "greenhouse-fireplace",
   "metadata": {},
   "outputs": [],
   "source": [
    "movies['votes'] = movies['votes'].str.replace(',', '').astype(int)"
   ]
  },
  {
   "cell_type": "code",
   "execution_count": 50,
   "id": "mental-guinea",
   "metadata": {},
   "outputs": [
    {
     "data": {
      "text/plain": [
       "movie                object\n",
       "year                  int32\n",
       "timeMin               int32\n",
       "imdb                float64\n",
       "metascore            object\n",
       "votes                 int32\n",
       "us_grossMillions     object\n",
       "dtype: object"
      ]
     },
     "execution_count": 50,
     "metadata": {},
     "output_type": "execute_result"
    }
   ],
   "source": [
    "movies.dtypes"
   ]
  },
  {
   "cell_type": "code",
   "execution_count": 51,
   "id": "statewide-receipt",
   "metadata": {},
   "outputs": [],
   "source": [
    "movies['us_grossMillions'] = movies['us_grossMillions'].map(lambda x:x.lstrip('$').rstrip('M'))\n",
    "movies['us_grossMillions'] = pd.to_numeric(movies['us_grossMillions'],errors='coerce')"
   ]
  },
  {
   "cell_type": "code",
   "execution_count": 52,
   "id": "suspected-wings",
   "metadata": {},
   "outputs": [],
   "source": [
    "movies['metascore'] = movies['metascore'].str.extract('(\\d+)')\n",
    "movies['metascore'] = pd.to_numeric(movies['metascore'], errors = 'coerce')"
   ]
  },
  {
   "cell_type": "code",
   "execution_count": 53,
   "id": "sonic-quarterly",
   "metadata": {},
   "outputs": [],
   "source": [
    "# turns out some movies have no metascore, giving an error.\n",
    "# decided to turn into float instead\n",
    "# movies['metascore'] = movies['metascore'].astype(float) gave an error"
   ]
  },
  {
   "cell_type": "code",
   "execution_count": 54,
   "id": "derived-transportation",
   "metadata": {},
   "outputs": [
    {
     "data": {
      "text/plain": [
       "movie                object\n",
       "year                  int32\n",
       "timeMin               int32\n",
       "imdb                float64\n",
       "metascore           float64\n",
       "votes                 int32\n",
       "us_grossMillions    float64\n",
       "dtype: object"
      ]
     },
     "execution_count": 54,
     "metadata": {},
     "output_type": "execute_result"
    }
   ],
   "source": [
    "movies.dtypes"
   ]
  },
  {
   "cell_type": "code",
   "execution_count": 55,
   "id": "aggressive-revision",
   "metadata": {},
   "outputs": [
    {
     "name": "stdout",
     "output_type": "stream",
     "text": [
      "                                       movie  year  timeMin  imdb  metascore  \\\n",
      "0                                       Dune  2021      155   8.5       75.0   \n",
      "1  Shang-Chi and the Legend of the Ten Rings  2021      132   7.9       71.0   \n",
      "2                                 The Matrix  1999      136   8.7       73.0   \n",
      "3                                  Shershaah  2021      135   8.8        NaN   \n",
      "4                          Avengers: Endgame  2019      181   8.4       78.0   \n",
      "\n",
      "     votes  us_grossMillions  \n",
      "0    36088               NaN  \n",
      "1    85955               NaN  \n",
      "2  1757491            171.48  \n",
      "3   101531               NaN  \n",
      "4   938583            858.37  \n",
      "movie                object\n",
      "year                  int32\n",
      "timeMin               int32\n",
      "imdb                float64\n",
      "metascore           float64\n",
      "votes                 int32\n",
      "us_grossMillions    float64\n",
      "dtype: object\n"
     ]
    }
   ],
   "source": [
    "print(movies.head())\n",
    "print(movies.dtypes)"
   ]
  },
  {
   "cell_type": "code",
   "execution_count": 56,
   "id": "anonymous-charleston",
   "metadata": {},
   "outputs": [],
   "source": [
    "movies.to_csv('movies.csv')"
   ]
  },
  {
   "cell_type": "code",
   "execution_count": null,
   "id": "professional-vehicle",
   "metadata": {},
   "outputs": [],
   "source": [
    "\n",
    "    "
   ]
  }
 ],
 "metadata": {
  "kernelspec": {
   "display_name": "Python 3",
   "language": "python",
   "name": "python3"
  },
  "language_info": {
   "codemirror_mode": {
    "name": "ipython",
    "version": 3
   },
   "file_extension": ".py",
   "mimetype": "text/x-python",
   "name": "python",
   "nbconvert_exporter": "python",
   "pygments_lexer": "ipython3",
   "version": "3.9.1"
  }
 },
 "nbformat": 4,
 "nbformat_minor": 5
}
