{
 "cells": [
  {
   "cell_type": "code",
   "execution_count": 1,
   "id": "sorted-overall",
   "metadata": {},
   "outputs": [],
   "source": [
    "import requests\n",
    "from requests import get\n",
    "from bs4 import BeautifulSoup\n",
    "import pandas as pd\n",
    "import numpy as np\n",
    "\n",
    "from time import sleep\n",
    "from random import randint"
   ]
  },
  {
   "cell_type": "markdown",
   "id": "quarterly-defendant",
   "metadata": {},
   "source": [
    "### Iterate each page for 1000 movie titles"
   ]
  },
  {
   "cell_type": "code",
   "execution_count": 4,
   "id": "cutting-contents",
   "metadata": {},
   "outputs": [],
   "source": [
    "headers = {\"Accept-Language\": \"en-US,en;q=0.5\"}\n",
    "\n",
    "titles = []\n",
    "years = []\n",
    "time = []\n",
    "imdb_ratings = []\n",
    "metascores = []\n",
    "votes = []\n",
    "us_gross = []\n"
   ]
  },
  {
   "cell_type": "code",
   "execution_count": 7,
   "id": "automotive-heater",
   "metadata": {},
   "outputs": [],
   "source": [
    "# Scraping loop code\n",
    "pages = np.arange(1,1001,50)  #(start, stop, step)\n",
    "\n",
    "for page in pages:\n",
    "    page = requests.get('https://www.imdb.com/search/title/?groups=top_1000&start=' + str(page) + '&ref_=adv_nxt') # &ref_=adv_nxt added to the end of URL and it doesnt change when going to next page.\n",
    "    soup = BeautifulSoup(page.text, 'html.parser')\n",
    "    movie_div = soup.find_all('div', class_='lister-item mode-advanced')\n",
    "    sleep(randint(2,10))  # 2-10 seconds\n",
    "    \n",
    "    for container in movie_div:\n",
    "        name = container.h3.a.text\n",
    "        titles.append(name)\n",
    "        \n",
    "        year = container.h3.find('span', class_='lister-item-year').text\n",
    "        years.append(year)\n",
    "        \n",
    "        runtime = container.p.find('span', class_='runtime').text if container.p.find('span', class_='runtime').text else '-'\n",
    "        time.append(runtime)\n",
    "        \n",
    "        imdb = float(container.strong.text)\n",
    "        imdb_ratings.append(imdb)\n",
    "        \n",
    "        m_score = container.find('span', class_='metascore').text if container.find('span', class_='metascore') else '-'\n",
    "        metascores.append(m_score)\n",
    "        \n",
    "        nv = container.find_all('span', attrs={'name': 'nv'})\n",
    "        \n",
    "        vote = nv[0].text\n",
    "        votes.append(vote)\n",
    "        \n",
    "        grosses = nv[1].text if len(nv) > 1 else '-'\n",
    "        us_gross.append(grosses)"
   ]
  },
  {
   "cell_type": "code",
   "execution_count": 8,
   "id": "patient-solomon",
   "metadata": {},
   "outputs": [],
   "source": [
    "movies = pd.DataFrame({\n",
    "'movie': titles,\n",
    "'year': years,\n",
    "'timeMin': time,\n",
    "'imdb': imdb_ratings,\n",
    "'metascore': metascores,\n",
    "'votes': votes,\n",
    "'us_grossMillions': us_gross,\n",
    "})\n",
    "\n",
    "movies['year'] = movies['year'].str.extract('(\\d+)').astype(int)\n",
    "\n",
    "movies['timeMin'] = movies['timeMin'].str.extract('(\\d+)').astype(int)\n",
    "\n",
    "movies['votes'] = movies['votes'].str.replace(',', '').astype(int)\n",
    "\n",
    "movies['metascore'] = movies['metascore'].str.extract('(\\d+)')\n",
    "movies['metascore'] = pd.to_numeric(movies['metascore'], errors='coerce')\n",
    "\n",
    "movies['us_grossMillions'] = movies['us_grossMillions'].map(lambda x: x.lstrip('$').rstrip('M'))\n",
    "movies['us_grossMillions'] = pd.to_numeric(movies['us_grossMillions'], errors='coerce')"
   ]
  },
  {
   "cell_type": "code",
   "execution_count": 9,
   "id": "nonprofit-fisher",
   "metadata": {},
   "outputs": [],
   "source": [
    "movies.to_csv('movies_2.csv')"
   ]
  },
  {
   "cell_type": "code",
   "execution_count": 11,
   "id": "recovered-spoke",
   "metadata": {},
   "outputs": [
    {
     "data": {
      "text/plain": [
       "movie                 0\n",
       "year                  0\n",
       "timeMin               0\n",
       "imdb                  0\n",
       "metascore           162\n",
       "votes                 0\n",
       "us_grossMillions    180\n",
       "dtype: int64"
      ]
     },
     "execution_count": 11,
     "metadata": {},
     "output_type": "execute_result"
    }
   ],
   "source": [
    "movies.isnull().sum()"
   ]
  },
  {
   "cell_type": "code",
   "execution_count": 12,
   "id": "respiratory-navigation",
   "metadata": {},
   "outputs": [],
   "source": [
    "movies.metascore = movies.metascore.fillna('No Score Given')\n",
    "movies.us_grossMillions = movies.us_grossMillions.fillna('')"
   ]
  },
  {
   "cell_type": "code",
   "execution_count": 14,
   "id": "removable-stage",
   "metadata": {},
   "outputs": [
    {
     "data": {
      "text/plain": [
       "0              75.0\n",
       "1              71.0\n",
       "2              73.0\n",
       "3    No Score Given\n",
       "4              78.0\n",
       "Name: metascore, dtype: object"
      ]
     },
     "execution_count": 14,
     "metadata": {},
     "output_type": "execute_result"
    }
   ],
   "source": [
    "movies.metascore.head()"
   ]
  },
  {
   "cell_type": "code",
   "execution_count": 15,
   "id": "liquid-tennessee",
   "metadata": {},
   "outputs": [
    {
     "data": {
      "text/plain": [
       "0          \n",
       "1          \n",
       "2    171.48\n",
       "3          \n",
       "4    858.37\n",
       "Name: us_grossMillions, dtype: object"
      ]
     },
     "execution_count": 15,
     "metadata": {},
     "output_type": "execute_result"
    }
   ],
   "source": [
    "movies.us_grossMillions.head()"
   ]
  },
  {
   "cell_type": "code",
   "execution_count": null,
   "id": "pregnant-drink",
   "metadata": {},
   "outputs": [],
   "source": []
  }
 ],
 "metadata": {
  "kernelspec": {
   "display_name": "Python 3",
   "language": "python",
   "name": "python3"
  },
  "language_info": {
   "codemirror_mode": {
    "name": "ipython",
    "version": 3
   },
   "file_extension": ".py",
   "mimetype": "text/x-python",
   "name": "python",
   "nbconvert_exporter": "python",
   "pygments_lexer": "ipython3",
   "version": "3.9.1"
  }
 },
 "nbformat": 4,
 "nbformat_minor": 5
}
